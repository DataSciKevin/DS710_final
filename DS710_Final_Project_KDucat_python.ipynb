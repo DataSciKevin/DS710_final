{
 "cells": [
  {
   "cell_type": "code",
   "execution_count": 3,
   "metadata": {},
   "outputs": [
    {
     "name": "stdout",
     "output_type": "stream",
     "text": [
      "15896\n"
     ]
    }
   ],
   "source": [
    "#Connect to Twitter\n",
    "def connect_to_twitter(consumer_key, consumer_secret, access_token, access_token_secret):\n",
    "    # OAuth process, using the keys and tokens\n",
    "    auth = tweepy.OAuthHandler(consumer_key, consumer_secret)\n",
    "    auth.set_access_token(access_token, access_token_secret)\n",
    " \n",
    "    # Creation of the actual interface, using authentication\n",
    "    api = tweepy.API(auth,wait_on_rate_limit=True)\n",
    "    return api\n",
    "\n",
    "\n",
    "def fetch_from_twitter(file_name, api):\n",
    "    # Open/create a file to append data to\n",
    "    csvFile = open(file_name, 'a')\n",
    "\n",
    "    #Use csv writer\n",
    "    csvWriter = csv.writer(csvFile)\n",
    "    count_tweets = 0\n",
    "\n",
    "    #Loop through each line of twitter data\n",
    "    for tweet in tweepy.Cursor(api.search,\n",
    "                          q = \"#MacysDayParade\",\n",
    " #                         q = \"#macysthanksgivingdayparade\",\n",
    " #                         q = \"#MacysParade\",\n",
    "                           since = \"2018-11-22\",\n",
    "                           until = \"2018-11-23\",\n",
    "                           lang = \"en\").items():\n",
    "        count_tweets += 1\n",
    "    \n",
    "        # Write a row to the CSV file. I use encode UTF-8\n",
    "        csvWriter.writerow([tweet.created_at , tweet.text.encode('utf-8')])\n",
    "    \n",
    "    # close the file.\n",
    "    csvFile.close()\n",
    "    return count_tweets \n",
    "\n",
    "###################################\n",
    "# Import the necessary package to process data in JSON format\n",
    "import json\n",
    "import csv\n",
    "import tweepy\n",
    " \n",
    "consumer_key           = ''\n",
    "consumer_secret        = ''\n",
    "access_token           = ''\n",
    "access_token_secret    = ''\n",
    "\n",
    "file_name              = 'Macysout.csv'\n",
    "\n",
    "#Call the Function to connect to twitter\n",
    "api_name = connect_to_twitter(consumer_key, consumer_secret, access_token, access_token_secret)\n",
    "\n",
    "#Call the Function to get the data from twitter.   The function returns a count of the number of rows written\n",
    "print(fetch_from_twitter(file_name, api_name))\n",
    "\n",
    "## 101,737 file 23 #MacysParade "
   ]
  },
  {
   "cell_type": "code",
   "execution_count": null,
   "metadata": {},
   "outputs": [],
   "source": []
  },
  {
   "cell_type": "code",
   "execution_count": null,
   "metadata": {},
   "outputs": [],
   "source": []
  },
  {
   "cell_type": "code",
   "execution_count": null,
   "metadata": {},
   "outputs": [],
   "source": []
  }
 ],
 "metadata": {
  "kernelspec": {
   "display_name": "Python 3",
   "language": "python",
   "name": "python3"
  },
  "language_info": {
   "codemirror_mode": {
    "name": "ipython",
    "version": 3
   },
   "file_extension": ".py",
   "mimetype": "text/x-python",
   "name": "python",
   "nbconvert_exporter": "python",
   "pygments_lexer": "ipython3",
   "version": "3.6.5"
  }
 },
 "nbformat": 4,
 "nbformat_minor": 2
}
